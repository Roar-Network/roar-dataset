{
 "cells": [
  {
   "cell_type": "markdown",
   "id": "e55f60ea",
   "metadata": {},
   "source": [
    "# Generación del dataset roar_rating"
   ]
  },
  {
   "cell_type": "markdown",
   "id": "c9b12b06",
   "metadata": {},
   "source": [
    "Tomando como base el dataset [Yahoo Answers Topics](https://huggingface.co/datasets/yahoo_answers_topics), se ha generado un nuevo dataset. Donde se tienen un cantidad de usuarios que valoran algunas de las entradas del dataset antes mencionado.\n",
    "\n",
    "El dataset contiene 1400000 entradas, y sigue la estructura descrita a continuación:\n",
    "\n",
    "- Categoría\n",
    "- Titulo de la pregunta\n",
    "- Cuerpo de la pregunta\n",
    "- Mejor respuesta\n",
    "\n",
    "Las categorías en el dataset son las siguientes:\n",
    "\n",
    "1. Cultura y sociedad\n",
    "2. Matemática y ciencias\n",
    "3. Salud\n",
    "4. Educación\n",
    "5. Internet y computación\n",
    "6. Deportes\n",
    "7. Finanzas y negocios\n",
    "8. Entretenimiento\n",
    "9. Familia\n",
    "10. Gobiernos y política"
   ]
  },
  {
   "cell_type": "markdown",
   "id": "5b526d7c",
   "metadata": {},
   "source": [
    "### Grafo de probabilidades de las preferencias\n",
    "\n",
    "El grafo de probabilidades de las preferencias  es un grafo ponderado donde los pesos $p_{i, j}$ están en el intervalo $[0,1]$ y representan las probabildades de que si a un usuario $U$ le gusta la categoría $i$ le guste la $j$"
   ]
  },
  {
   "cell_type": "code",
   "execution_count": 1,
   "id": "b8222564",
   "metadata": {},
   "outputs": [],
   "source": [
    "from numpy import array, zeros\n",
    "from random import randint\n",
    "\n",
    "graph = array([\n",
    "    [1.0, 0.3, 0.4, 0.6, 0.2, 0.3, 0.5, 0.6, 0.8, 0.9],\n",
    "    [0.1, 1.0, 0.2, 0.7, 0.8, 0.5, 0.7, 0.65, 0.5, 0.8],\n",
    "    [0.78, 0.1, 1.0, 0.6, 0.2, 0.5, 0.2, 0.7, 0.65, 0.79],\n",
    "    [0.6, 0.4, 0.2, 1.0, 0.2, 0.45, 0.3, 0.5, 0.8, 0.7],\n",
    "    [0.18, 0.86, 0.4, 0.3, 1.0, 0.67, 0.56, 0.7, 0.4, 0.69],\n",
    "    [0.2, 0.3, 0.6, 0.2, 0.1, 1.0, 0.5, 0.7, 0.3, 0.4],\n",
    "    [0.7, 0.6, 0.3, 0.5, 0.6, 0.58, 1.0, 0.62, 0.48, 0.53],\n",
    "    [0.8, 0.1, 0.2, 0.1, 0.8, 0.82, 0.458, 1.0, 0.23, 0.38],\n",
    "    [0.6, 0.1, 0.7, 0.75, 0.4, 0.5, 0.64, 0.58, 1.0, 0.4],\n",
    "    [0.9, 0.2, 0.4, 0.6, 0.3, 0.2, 0.86, 0.42, 0.21, 1.0]\n",
    "])\n"
   ]
  },
  {
   "cell_type": "markdown",
   "id": "8a83707a",
   "metadata": {},
   "source": [
    "### Generar los vectores de probabilidades de los usuarios $p_{c_U}$\n",
    "\n",
    "El vector de probabilidades de los usuarios representa la probabilidad de que al usuario $U$ le guste la categoría $c_i$."
   ]
  },
  {
   "cell_type": "code",
   "execution_count": 2,
   "id": "f53131b3",
   "metadata": {},
   "outputs": [],
   "source": [
    "max_categories_to_select = 4\n",
    "\n",
    "def get_user(id: int):\n",
    "    categories = [i for i in range(10)]\n",
    "    user = zeros(10)\n",
    "\n",
    "    count_category = randint(1,max_categories_to_select)\n",
    "    for i in range(count_category):\n",
    "        # select random index of categories\n",
    "        index = randint(i, len(categories) -1)\n",
    "        # update user preference\n",
    "        user += graph[categories[index]]\n",
    "        # put this index to the begining of the categories array\n",
    "        category = categories.pop(index)\n",
    "        categories.insert(0, category)\n",
    "    \n",
    "    return user / max_categories_to_select"
   ]
  },
  {
   "cell_type": "markdown",
   "id": "6f6bc2e0",
   "metadata": {},
   "source": [
    "#### Generar usuarios\n",
    "\n",
    "Se generan 5000 usuarios en el dataset."
   ]
  },
  {
   "cell_type": "code",
   "execution_count": 3,
   "id": "9c51c04e",
   "metadata": {},
   "outputs": [],
   "source": [
    "count_user = 5000\n",
    "\n",
    "users = [get_user(i) for i in range(count_user)]"
   ]
  },
  {
   "cell_type": "code",
   "execution_count": 4,
   "id": "8826ba47",
   "metadata": {},
   "outputs": [],
   "source": [
    "from pandas import DataFrame\n",
    "\n",
    "users = DataFrame(users, columns=[i for i in range(10)])\n",
    "users.insert(0, \"id\", [i for i in range(count_user)])\n",
    "users.to_csv(\"./users.csv\", index=False)"
   ]
  },
  {
   "cell_type": "markdown",
   "id": "1b2f9cd2",
   "metadata": {},
   "source": [
    "### Trabajo con el dataset Yahoo Answer Topics\n",
    "\n",
    "Como el fin del script es generar un dataset de \"roars\" y valoraciones, vamos a tomar el título de las preguntas y la mejor respuesta y vamos a realizar resumenes automáticos de los mismos, para conseguir textos de a lo sumo 260 caracteres que es el maximo de la aplicacion Roar.\n",
    "\n",
    "NO SE HIZO LO DE ARRIBA PQ ERA MUY LENTO \n",
    "\n",
    "Nos quedamos con los textos que tenian menos de 512 caracteres"
   ]
  },
  {
   "cell_type": "code",
   "execution_count": 5,
   "id": "0bf9f5d6",
   "metadata": {},
   "outputs": [],
   "source": [
    "import pandas as pd\n",
    "\n",
    "max_character_by_roar = 512"
   ]
  },
  {
   "cell_type": "code",
   "execution_count": 6,
   "id": "15ca7a8f",
   "metadata": {},
   "outputs": [],
   "source": [
    "dataset = pd.read_csv(\"./yahoo_answers_topic.csv\")\n",
    "dataset.columns = [\"category\", \"question_title\", \"question_body\", \"best_answer\"]\n",
    "\n",
    "# insert id & text columns\n",
    "dataset.insert(0, \"id\", [i+1 for i in range(len(dataset[\"category\"]))])\n",
    "dataset.insert(5, \"text\", dataset[\"question_title\"] + [\" \" for i in range(len(dataset[\"question_title\"]))] + dataset[\"best_answer\"])\n",
    "dataset.insert(6, \"roar_text\", [\"\" if len(str(text)) > max_character_by_roar else str(text) for text in dataset[\"text\"]])\n",
    "\n",
    "# remove unnecessary columns\n",
    "dataset = dataset.drop([\"question_title\", \"question_body\", \"best_answer\", \"text\"], axis=1)\n",
    "\n",
    "# remove empty roar text\n",
    "dataset = dataset[dataset[\"roar_text\"] != \"\"]\n"
   ]
  },
  {
   "cell_type": "code",
   "execution_count": 7,
   "id": "90161c8c",
   "metadata": {},
   "outputs": [
    {
     "data": {
      "text/html": [
       "<div>\n",
       "<style scoped>\n",
       "    .dataframe tbody tr th:only-of-type {\n",
       "        vertical-align: middle;\n",
       "    }\n",
       "\n",
       "    .dataframe tbody tr th {\n",
       "        vertical-align: top;\n",
       "    }\n",
       "\n",
       "    .dataframe thead th {\n",
       "        text-align: right;\n",
       "    }\n",
       "</style>\n",
       "<table border=\"1\" class=\"dataframe\">\n",
       "  <thead>\n",
       "    <tr style=\"text-align: right;\">\n",
       "      <th></th>\n",
       "      <th>id</th>\n",
       "      <th>category</th>\n",
       "      <th>roar_text</th>\n",
       "    </tr>\n",
       "  </thead>\n",
       "  <tbody>\n",
       "    <tr>\n",
       "      <th>0</th>\n",
       "      <td>1</td>\n",
       "      <td>2</td>\n",
       "      <td>Why does Zebras have stripes? this provides ca...</td>\n",
       "    </tr>\n",
       "    <tr>\n",
       "      <th>1</th>\n",
       "      <td>2</td>\n",
       "      <td>4</td>\n",
       "      <td>What did the itsy bitsy sipder climb up? water...</td>\n",
       "    </tr>\n",
       "    <tr>\n",
       "      <th>3</th>\n",
       "      <td>4</td>\n",
       "      <td>3</td>\n",
       "      <td>Why do women get PMS? Premenstrual syndrome (P...</td>\n",
       "    </tr>\n",
       "    <tr>\n",
       "      <th>4</th>\n",
       "      <td>5</td>\n",
       "      <td>3</td>\n",
       "      <td>If your co-worker is guilty of unsanitary hygi...</td>\n",
       "    </tr>\n",
       "    <tr>\n",
       "      <th>6</th>\n",
       "      <td>7</td>\n",
       "      <td>3</td>\n",
       "      <td>What are the risks of alternative medicine? Th...</td>\n",
       "    </tr>\n",
       "  </tbody>\n",
       "</table>\n",
       "</div>"
      ],
      "text/plain": [
       "   id  category                                          roar_text\n",
       "0   1         2  Why does Zebras have stripes? this provides ca...\n",
       "1   2         4  What did the itsy bitsy sipder climb up? water...\n",
       "3   4         3  Why do women get PMS? Premenstrual syndrome (P...\n",
       "4   5         3  If your co-worker is guilty of unsanitary hygi...\n",
       "6   7         3  What are the risks of alternative medicine? Th..."
      ]
     },
     "execution_count": 7,
     "metadata": {},
     "output_type": "execute_result"
    }
   ],
   "source": [
    "dataset.head()"
   ]
  },
  {
   "cell_type": "code",
   "execution_count": 8,
   "id": "444025f3",
   "metadata": {},
   "outputs": [
    {
     "data": {
      "text/plain": [
       "(46769, 3)"
      ]
     },
     "execution_count": 8,
     "metadata": {},
     "output_type": "execute_result"
    }
   ],
   "source": [
    "dataset.shape"
   ]
  },
  {
   "cell_type": "code",
   "execution_count": 9,
   "id": "a36bedaa",
   "metadata": {},
   "outputs": [],
   "source": [
    "dataset.to_csv(\"./roars.csv\", index=False)"
   ]
  },
  {
   "cell_type": "markdown",
   "id": "a602bb13",
   "metadata": {},
   "source": [
    "### Generar ratings"
   ]
  },
  {
   "cell_type": "markdown",
   "id": "1ea2b5e2",
   "metadata": {},
   "source": [
    "Por cada usuario se hace lo siguiente:\n",
    "\n",
    "- Se calcula el promedio de gusto de cada usuario, y se agrupan los post por categorias"
   ]
  },
  {
   "cell_type": "code",
   "execution_count": 103,
   "id": "37ea7f51",
   "metadata": {},
   "outputs": [],
   "source": [
    "from numpy.random import uniform, sample\n",
    "from heapq import nlargest\n",
    "import numpy as np\n",
    "\n",
    "data_by_category = dataset.groupby(\"category\")\n",
    "groups = [data_by_category.get_group(i)[\"id\"] for i in range(1, 11)]\n",
    "len_data_by_category = [len(data_by_category.get_group(i)) for i in range(1, 11)]\n",
    "\n",
    "users = pd.read_csv(\"./users.csv\")\n",
    "users.drop([\"id\"], axis=1, inplace=True)\n",
    "users = users.to_numpy()\n",
    "\n",
    "means = [np.mean(users[i]) for i in range(count_user)]"
   ]
  },
  {
   "cell_type": "markdown",
   "id": "fd8106bf",
   "metadata": {},
   "source": [
    "Un rating es dado un usuario y una categoria, un valor [-10, 10], aunque en la aplicación va de menos infinito a infinito. Se genera un random uniforme de [0, 10] y si el gusto de dicho usuario por la categoria es menor que el promedio entonces devuelve el rating negativo y si no el rating positivo"
   ]
  },
  {
   "cell_type": "code",
   "execution_count": 104,
   "id": "e2d030d3",
   "metadata": {},
   "outputs": [],
   "source": [
    "def get_rating(category: int, i: int):\n",
    "    r = round(uniform(0,10), 2)\n",
    "    if users[i][category] < means[i]:\n",
    "        return -r\n",
    "    return r\n"
   ]
  },
  {
   "cell_type": "markdown",
   "id": "ce9ad312",
   "metadata": {},
   "source": [
    "Vamos por cada usuario tomando a lo sumo las 3 categorias que mas le gustan, y calculamos cuantos post van a sufrir la interaccion del usuario, probabilidad de que le guste la categoria * la cantidad de post en la categoria y un uniforme (0, 0.8). Luego se escogen esa cantidad de post al azar y se aplica la funcion get_rating."
   ]
  },
  {
   "cell_type": "code",
   "execution_count": 105,
   "id": "45ab0d95",
   "metadata": {},
   "outputs": [],
   "source": [
    "user_road = []\n",
    "for u in range(count_user):\n",
    "    n = randint(1, 3)\n",
    "    heap = nlargest(n, list(zip(users[u], range(1, 11))), key=lambda x: x[0])\n",
    "    for i in range(n):\n",
    "        p, c = heap[i]\n",
    "        count = int(p * len_data_by_category[c-1] * uniform(0, 0.8))\n",
    "        \n",
    "        smp =  list(groups[c-1].sample(count))\n",
    "        for s in smp:\n",
    "            user_road.append([u, s, get_rating(c-1, u)]) \n"
   ]
  },
  {
   "cell_type": "code",
   "execution_count": 106,
   "id": "347203f5",
   "metadata": {},
   "outputs": [],
   "source": [
    "user_ratings = DataFrame(user_road, columns=[\"user_id\", \"roar_id\", \"rating\"])"
   ]
  },
  {
   "cell_type": "code",
   "execution_count": 107,
   "id": "cc1b477f",
   "metadata": {},
   "outputs": [
    {
     "data": {
      "text/html": [
       "<div>\n",
       "<style scoped>\n",
       "    .dataframe tbody tr th:only-of-type {\n",
       "        vertical-align: middle;\n",
       "    }\n",
       "\n",
       "    .dataframe tbody tr th {\n",
       "        vertical-align: top;\n",
       "    }\n",
       "\n",
       "    .dataframe thead th {\n",
       "        text-align: right;\n",
       "    }\n",
       "</style>\n",
       "<table border=\"1\" class=\"dataframe\">\n",
       "  <thead>\n",
       "    <tr style=\"text-align: right;\">\n",
       "      <th></th>\n",
       "      <th>user_id</th>\n",
       "      <th>roar_id</th>\n",
       "      <th>rating</th>\n",
       "    </tr>\n",
       "  </thead>\n",
       "  <tbody>\n",
       "    <tr>\n",
       "      <th>899</th>\n",
       "      <td>0</td>\n",
       "      <td>2</td>\n",
       "      <td>9.59</td>\n",
       "    </tr>\n",
       "    <tr>\n",
       "      <th>397</th>\n",
       "      <td>0</td>\n",
       "      <td>18</td>\n",
       "      <td>6.07</td>\n",
       "    </tr>\n",
       "    <tr>\n",
       "      <th>240</th>\n",
       "      <td>0</td>\n",
       "      <td>25</td>\n",
       "      <td>5.25</td>\n",
       "    </tr>\n",
       "    <tr>\n",
       "      <th>315</th>\n",
       "      <td>0</td>\n",
       "      <td>55</td>\n",
       "      <td>4.40</td>\n",
       "    </tr>\n",
       "    <tr>\n",
       "      <th>158</th>\n",
       "      <td>0</td>\n",
       "      <td>114</td>\n",
       "      <td>1.60</td>\n",
       "    </tr>\n",
       "  </tbody>\n",
       "</table>\n",
       "</div>"
      ],
      "text/plain": [
       "     user_id  roar_id  rating\n",
       "899        0        2    9.59\n",
       "397        0       18    6.07\n",
       "240        0       25    5.25\n",
       "315        0       55    4.40\n",
       "158        0      114    1.60"
      ]
     },
     "execution_count": 107,
     "metadata": {},
     "output_type": "execute_result"
    }
   ],
   "source": [
    "user_ratings = user_ratings.sort_values(by=[\"user_id\", \"roar_id\"])\n",
    "user_ratings.head()"
   ]
  },
  {
   "cell_type": "code",
   "execution_count": 108,
   "id": "2ba078c1",
   "metadata": {},
   "outputs": [],
   "source": [
    "user_ratings.to_csv(\"./user_ratings.csv\", index=False)"
   ]
  }
 ],
 "metadata": {
  "kernelspec": {
   "display_name": "Python 3 (ipykernel)",
   "language": "python",
   "name": "python3"
  },
  "language_info": {
   "codemirror_mode": {
    "name": "ipython",
    "version": 3
   },
   "file_extension": ".py",
   "mimetype": "text/x-python",
   "name": "python",
   "nbconvert_exporter": "python",
   "pygments_lexer": "ipython3",
   "version": "3.8.10"
  }
 },
 "nbformat": 4,
 "nbformat_minor": 5
}
